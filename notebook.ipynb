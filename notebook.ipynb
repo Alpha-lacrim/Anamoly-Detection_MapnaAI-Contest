{
 "cells": [
  {
   "cell_type": "markdown",
   "metadata": {},
   "source": [
    "<h1 align=center style=\"line-height:200%;font-family:vazir;color:#0099cc\">\n",
    "<font face=\"vazir\" color=\"#0099cc\">\n",
    "تشخیص ناهنجاری\n",
    "</font>\n",
    "</h1>"
   ]
  },
  {
   "cell_type": "markdown",
   "metadata": {},
   "source": [
    "<h2 dir=rtl align=right style=\"line-height:200%;font-family:vazir;color:#0099cc\">\n",
    "<font face=\"vazir\" color=\"#0099cc\">\n",
    "معرفی مجموعه داده\n",
    "</font>\n",
    "</h2>\n",
    "\n",
    "\n",
    "<p dir=rtl style=\"direction: rtl; text-align: justify; line-height:200%; font-family:vazir; font-size:medium\">\n",
    "<font face=\"vazir\" size=3>\n",
    "\n",
    "</font>\n",
    "</p>\n"
   ]
  },
  {
   "cell_type": "markdown",
   "metadata": {},
   "source": [
    "<p dir=rtl style=\"direction: rtl; text-align: justify; line-height:200%; font-family:vazir; font-size:medium\">\n",
    "<font face=\"vazir\" size=3>\n",
    "در این قسمت کتاب‌خانه‌ها و ابزار مورد نیاز خود را \n",
    "<code>import</code>\n",
    " کنید \n",
    " و\n",
    "  فایل داده‌ها را که در پوشه‌ی \n",
    "  <code>Data</code>\n",
    "ذخیره‌شده‌اند را بخوانید و وارد محیط کار خود کنید.\n",
    "</font>\n",
    "</p>"
   ]
  },
  {
   "cell_type": "code",
   "metadata": {
    "ExecuteTime": {
     "end_time": "2025-08-29T14:46:07.132293Z",
     "start_time": "2025-08-29T14:46:07.128408Z"
    }
   },
   "source": [
    "# Load the data and prepare it for training the model\n",
    "import pandas as pd\n",
    "import numpy as np\n",
    "import os\n",
    "import glob\n",
    "\n",
    "data_path = './data/'\n",
    "\n",
    "# Reading all csv files from the directory \n",
    "all_files = glob.glob(os.path.join(data_path, \"*_test.csv\"))"
   ],
   "outputs": [],
   "execution_count": 13
  },
  {
   "cell_type": "markdown",
   "metadata": {},
   "source": [
    "<h2 dir=rtl align=right style=\"line-height:200%;font-family:vazir;color:#0099cc\">\n",
    "<font face=\"vazir\" color=\"#0099cc\">\n",
    "پیش‌پردازش و مهندسی ویژگی\n",
    "</font>\n",
    "</h2>\n",
    "\n",
    "<p dir=rtl style=\"direction: rtl; text-align: justify; line-height:200%; font-family:vazir; font-size:medium\">\n",
    "<font face=\"vazir\" size=3>\n",
    "        در این سوال شما می‌توانید از هر تکنیک پیش‌پردازش/مهندسی ویژگی دلخواهتان، استفاده کنید.\n",
    "    <br>\n",
    "    تکنیک‌هایی که استفاده می‌کنید به شکل مستقیم مورد ارزیابی توسط سامانه داوری قرار <b>نمی‌گیرند.</b> بلکه همه آن‌ها در دقت مدل شما تاثیر خواهند گذاشت؛ بنابراین هر چه پیش‌پردازش/مهندسی ویژگی بهتری انجام دهید تا دقت مدل بهبود پیدا کند، امتیاز بیشتری از این سوال کسب خواهید کرد.\n",
    "    در این قسمت شما می‌توانید بخشی از داده‌ی موجود را برای اعتبارسنجی در نظر بگیرید.\n",
    "</font>\n",
    "</p>"
   ]
  },
  {
   "metadata": {
    "ExecuteTime": {
     "end_time": "2025-08-29T14:46:07.657704Z",
     "start_time": "2025-08-29T14:46:07.133308Z"
    }
   },
   "cell_type": "code",
   "source": [
    "# Creating a dict for each sensor\n",
    "dataframes = {}\n",
    "for file in all_files:\n",
    "    # Extracting the sensor's name from the file\n",
    "    sensor_name = os.path.basename(file).replace('_test.csv', '')\n",
    "    df = pd.read_csv(file)\n",
    "\n",
    "    df['timestamp'] = pd.to_datetime(df['timestamp'])\n",
    "    df.set_index('timestamp', inplace=True)\n",
    "    df.columns = [sensor_name]\n",
    "    dataframes[sensor_name] = df\n",
    "\n",
    "print(f\"{len(dataframes)} sensors have been loaded.\")\n",
    "\n",
    "# Finding the sensor with the highest rate\n",
    "highest_rate_sensor = max(dataframes, key=lambda k: len(dataframes[k]))\n",
    "print(f\"The highest rate sensor: {highest_rate_sensor}\")\n",
    "\n",
    "# Getting the time index for the sensor with the highest rate\n",
    "highest_rate_index = dataframes[highest_rate_sensor].index\n",
    "\n",
    "# Creating a new df\n",
    "merged_df = pd.DataFrame(index=highest_rate_index)\n",
    "\n",
    "# Merging the dfs\n",
    "for sensor_name, df in dataframes.items():\n",
    "    resampled_df = df.reindex(highest_rate_index).interpolate(method='time')\n",
    "    resampled_df = resampled_df.ffill().bfill()\n",
    "    merged_df[sensor_name] = resampled_df\n",
    "\n",
    "print(\"\\nMerged df info:\")\n",
    "merged_df.info()\n",
    "print(\"\\nHead of the merged df info:\")\n",
    "print(merged_df.head())"
   ],
   "outputs": [
    {
     "name": "stdout",
     "output_type": "stream",
     "text": [
      "15 sensors have been loaded.\n",
      "The highest rate sensor: BearingTemp_C\n",
      "\n",
      "Merged df info:\n",
      "<class 'pandas.core.frame.DataFrame'>\n",
      "DatetimeIndex: 45900 entries, 2025-01-02 05:45:00 to 2025-01-02 18:29:59\n",
      "Data columns (total 15 columns):\n",
      " #   Column            Non-Null Count  Dtype  \n",
      "---  ------            --------------  -----  \n",
      " 0   BearingTemp_C     45900 non-null  float64\n",
      " 1   Current_A         45900 non-null  float64\n",
      " 2   FlowRate_L_min    45900 non-null  float64\n",
      " 3   Humidity_pct      45900 non-null  float64\n",
      " 4   OilLevel_cm       45900 non-null  float64\n",
      " 5   pH_units          45900 non-null  float64\n",
      " 6   Power_kW          45900 non-null  float64\n",
      " 7   Pressure_kPa      45900 non-null  float64\n",
      " 8   Speed_RPM         45900 non-null  float64\n",
      " 9   Temperature_C     45900 non-null  float64\n",
      " 10  Torque_Nm         45900 non-null  float64\n",
      " 11  VibAccel_m_s2     45900 non-null  float64\n",
      " 12  VibDisp_mm        45900 non-null  float64\n",
      " 13  VibVelocity_mm_s  45900 non-null  float64\n",
      " 14  Voltage_V         45900 non-null  float64\n",
      "dtypes: float64(15)\n",
      "memory usage: 5.6 MB\n",
      "\n",
      "Head of the merged df info:\n",
      "                     BearingTemp_C  Current_A  FlowRate_L_min  Humidity_pct  \\\n",
      "timestamp                                                                     \n",
      "2025-01-02 05:45:00       85.73809   6.303840       32.713023     72.496822   \n",
      "2025-01-02 05:45:01       85.73809   6.288362       32.713023     72.496822   \n",
      "2025-01-02 05:45:02       85.73809   6.567258       32.713023     72.496822   \n",
      "2025-01-02 05:45:03       85.73809   6.494177       32.713023     72.496822   \n",
      "2025-01-02 05:45:04       85.73809   6.486665       32.713023     72.496822   \n",
      "\n",
      "                     OilLevel_cm  pH_units   Power_kW  Pressure_kPa  \\\n",
      "timestamp                                                             \n",
      "2025-01-02 05:45:00    12.324973  7.864849  66.771167    394.328679   \n",
      "2025-01-02 05:45:01    12.324973  7.864849  68.658864    394.328679   \n",
      "2025-01-02 05:45:02    12.324973  7.864849  69.214723    430.743159   \n",
      "2025-01-02 05:45:03    12.324973  7.864849  68.436531    430.743159   \n",
      "2025-01-02 05:45:04    12.324973  7.864849  69.569798    415.155541   \n",
      "\n",
      "                       Speed_RPM  Temperature_C  Torque_Nm  VibAccel_m_s2  \\\n",
      "timestamp                                                                   \n",
      "2025-01-02 05:45:00  1930.488320      66.146548  137.10891      32.521381   \n",
      "2025-01-02 05:45:01  1930.488320      66.282674  137.10891      32.521381   \n",
      "2025-01-02 05:45:02  2101.409376      69.831936  137.10891      32.521381   \n",
      "2025-01-02 05:45:03  2101.409376      73.234086  137.10891      32.521381   \n",
      "2025-01-02 05:45:04  2022.616475      72.646397  137.10891      32.521381   \n",
      "\n",
      "                     VibDisp_mm  VibVelocity_mm_s   Voltage_V  \n",
      "timestamp                                                      \n",
      "2025-01-02 05:45:00    0.737859           13.9622  237.569648  \n",
      "2025-01-02 05:45:01    0.737859           13.9622  237.569648  \n",
      "2025-01-02 05:45:02    0.737859           13.9622  236.397025  \n",
      "2025-01-02 05:45:03    0.737859           13.9622  236.397025  \n",
      "2025-01-02 05:45:04    0.737859           13.9622  236.551549  \n"
     ]
    }
   ],
   "execution_count": 14
  },
  {
   "cell_type": "markdown",
   "metadata": {},
   "source": [
    "<h2 dir=rtl align=right style=\"line-height:200%;font-family:vazir;color:#0099cc\">\n",
    "<font face=\"vazir\" color=\"#0099cc\">\n",
    "آموزش مدل\n",
    "</font>\n",
    "</h2>\n",
    "\n"
   ]
  },
  {
   "metadata": {
    "ExecuteTime": {
     "end_time": "2025-08-29T14:46:08.294836Z",
     "start_time": "2025-08-29T14:46:07.658717Z"
    }
   },
   "cell_type": "code",
   "source": [
    "# Model development and training\n",
    "from sklearn.ensemble import IsolationForest\n",
    "\n",
    "model = IsolationForest(\n",
    "    n_estimators=200,\n",
    "    contamination=0.02,\n",
    "    max_features=1.0, # Use all features for each tree\n",
    "    random_state=42,\n",
    "    n_jobs=-1 # Use all available CPU cores\n",
    ")\n",
    "\n",
    "print(\"Training the Isolation Forest ...\")\n",
    "model.fit(merged_df)\n",
    "print(\"Trained.\")"
   ],
   "outputs": [
    {
     "name": "stdout",
     "output_type": "stream",
     "text": [
      "Training the Isolation Forest ...\n",
      "Trained.\n"
     ]
    }
   ],
   "execution_count": 15
  },
  {
   "cell_type": "markdown",
   "metadata": {},
   "source": [
    "<h2 dir=rtl align=right style=\"line-height:200%;font-family:vazir;color:#0099cc\">\n",
    "<font face=\"vazir\" color=\"#0099cc\">\n",
    "معیار ارزیابی\n",
    "</font>\n",
    "</h2>\n",
    "\n"
   ]
  },
  {
   "metadata": {
    "ExecuteTime": {
     "end_time": "2025-08-29T14:46:08.583955Z",
     "start_time": "2025-08-29T14:46:08.295375Z"
    }
   },
   "cell_type": "code",
   "source": [
    "# Predict and create submission file\n",
    "predictions = model.predict(merged_df)\n",
    "\n",
    "# We should change -1 with 0 because of the prediction format\n",
    "submission_predictions = np.where(predictions == -1, 1, 0)\n",
    "\n",
    "submission_df = pd.DataFrame({'prediction': submission_predictions})\n",
    "\n",
    "submission_df.to_csv('submission.csv', index=False)\n",
    "\n",
    "print(\"Submission created successfully.\")\n",
    "print(f\"Prediction: {submission_df['prediction'].sum()}\")"
   ],
   "outputs": [
    {
     "name": "stdout",
     "output_type": "stream",
     "text": [
      "Submission created successfully.\n",
      "Prediction: 918\n"
     ]
    }
   ],
   "execution_count": 16
  },
  {
   "metadata": {},
   "cell_type": "markdown",
   "source": [
    "<h2 dir=rtl align=right style=\"line-height:200%;font-family:vazir;color:#0099cc\">\n",
    "<font face=\"vazir\" color=\"#0099cc\">\n",
    " پیش‌بینی برای داده تست و خروجی\n",
    "</font>\n",
    "</h2>\n"
   ]
  },
  {
   "cell_type": "code",
   "metadata": {
    "ExecuteTime": {
     "end_time": "2025-08-29T14:46:08.588233Z",
     "start_time": "2025-08-29T14:46:08.585038Z"
    }
   },
   "source": [
    "from sklearn.metrics import f1_score\n",
    "# print(f\"F1 score: {f1_score(submission_df['prediction'], )}\")"
   ],
   "outputs": [],
   "execution_count": 17
  },
  {
   "cell_type": "markdown",
   "metadata": {},
   "source": [
    "<h2 dir=rtl align=right style=\"line-height:200%;font-family:vazir;color:#0099cc\">\n",
    "<font face=\"vazir\" color=\"#0099cc\">\n",
    "<b>سلول جواب‌ساز</b>\n",
    "</font>\n",
    "</h2>\n",
    "\n",
    "<p dir=rtl style=\"direction: rtl; text-align: justify; line-height:200%; font-family:vazir; font-size:medium\">\n",
    "<font face=\"vazir\" size=3>\n",
    "    برای ساخته‌شدن فایل <code>result.zip</code> سلول زیر را اجرا کنید. توجه داشته باشید که پیش از اجرای سلول زیر تغییرات اعمال شده در نت‌بوک را ذخیره کرده باشید (<code>ctrl+s</code>) در غیر این صورت، در پایان مسابقه نمره شما به صفر تغییر خواهد کرد.\n",
    "    <br>\n",
    "    همچنین اگر از کولب برای اجرای این فایل نوت‌بوک استفاده می‌کنید، قبل از ارسال فایل <code>result.zip</code>، آخرین نسخه‌ی نوت‌بوک خود را دانلود کرده و داخل فایل ارسالی قرار دهید.\n",
    "</font>"
   ]
  },
  {
   "cell_type": "code",
   "metadata": {
    "ExecuteTime": {
     "end_time": "2025-08-29T14:46:08.607130Z",
     "start_time": "2025-08-29T14:46:08.589323Z"
    }
   },
   "source": [
    "import zipfile\n",
    "import joblib\n",
    "import os\n",
    "\n",
    "if not os.path.exists(os.path.join(os.getcwd(), 'notebook.ipynb')):\n",
    "    %notebook -e notebook.ipynb\n",
    "\n",
    "def compress(file_names):\n",
    "    print(\"File Paths:\")\n",
    "    print(file_names)\n",
    "    compression = zipfile.ZIP_DEFLATED\n",
    "    with zipfile.ZipFile(\"result.zip\", mode=\"w\") as zf:\n",
    "        for file_name in file_names:\n",
    "            zf.write('./' + file_name, file_name, compress_type=compression)\n",
    "\n",
    "submission_df.to_csv('submission.csv', index=False)\n",
    "file_names = ['notebook.ipynb', 'submission.csv']\n",
    "compress(file_names)"
   ],
   "outputs": [
    {
     "name": "stdout",
     "output_type": "stream",
     "text": [
      "File Paths:\n",
      "['notebook.ipynb', 'submission.csv']\n"
     ]
    }
   ],
   "execution_count": 18
  },
  {
   "metadata": {
    "ExecuteTime": {
     "end_time": "2025-08-29T14:46:08.610477Z",
     "start_time": "2025-08-29T14:46:08.608218Z"
    }
   },
   "cell_type": "code",
   "source": "",
   "outputs": [],
   "execution_count": 18
  }
 ],
 "metadata": {
  "kernelspec": {
   "display_name": "Python 3",
   "language": "python",
   "name": "python3"
  },
  "language_info": {
   "name": "python",
   "version": "3.10.2"
  }
 },
 "nbformat": 4,
 "nbformat_minor": 2
}
